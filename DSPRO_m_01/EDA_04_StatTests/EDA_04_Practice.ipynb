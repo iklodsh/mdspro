{
 "cells": [
  {
   "cell_type": "markdown",
   "metadata": {},
   "source": [
    "## 10. Практика. Статистические тесты в контексте EDA\n",
    "### ИССЛЕДОВАНИЕ ДАННЫХ HR-АГЕНТСТВА\n",
    "_Штонда А.С._  \n",
    "\n",
    "#### 0. Постановка проблемы\n",
    "\n",
    "1. Выяснить, какие факторы влияют на зарплату специалиста Data Scientist.\n",
    "\n",
    "2. Ответить на ключевые вопросы HR-агентства:\n",
    "* Наблюдается ли ежегодный рост зарплат у специалистов Data Scientist?\n",
    "* Как соотносятся зарплаты Data Scientist и Data Engineer в 2022 году?\n",
    "* Как соотносятся зарплаты специалистов Data Scientist в компаниях различных размеров?\n",
    "* Есть ли связь между наличием должностей Data Scientist и Data Engineer и размером компании?\n",
    "3. Найти в данных другие интересные закономерности."
   ]
  },
  {
   "cell_type": "markdown",
   "metadata": {},
   "source": [
    "#### 1. Загрузка и обработка данных"
   ]
  },
  {
   "cell_type": "code",
   "execution_count": 78,
   "metadata": {},
   "outputs": [],
   "source": [
    "import pandas as pd\n",
    "import matplotlib.pyplot as plt\n",
    "import seaborn as sns\n",
    "import scipy.stats as stats"
   ]
  },
  {
   "cell_type": "markdown",
   "metadata": {},
   "source": [
    "Исходный файл с данными 'ds_salaries.csv' сосхранен в облаке по ссылке:  \n",
    "https://drive.google.com/file/d/1FwCryy3hCQI_65B099t0qQk85vDyXZpF/view?usp=sharing"
   ]
  },
  {
   "cell_type": "code",
   "execution_count": 79,
   "metadata": {},
   "outputs": [
    {
     "data": {
      "text/html": [
       "<div>\n",
       "<style scoped>\n",
       "    .dataframe tbody tr th:only-of-type {\n",
       "        vertical-align: middle;\n",
       "    }\n",
       "\n",
       "    .dataframe tbody tr th {\n",
       "        vertical-align: top;\n",
       "    }\n",
       "\n",
       "    .dataframe thead th {\n",
       "        text-align: right;\n",
       "    }\n",
       "</style>\n",
       "<table border=\"1\" class=\"dataframe\">\n",
       "  <thead>\n",
       "    <tr style=\"text-align: right;\">\n",
       "      <th></th>\n",
       "      <th>Unnamed: 0</th>\n",
       "      <th>work_year</th>\n",
       "      <th>experience_level</th>\n",
       "      <th>employment_type</th>\n",
       "      <th>job_title</th>\n",
       "      <th>salary</th>\n",
       "      <th>salary_currency</th>\n",
       "      <th>salary_in_usd</th>\n",
       "      <th>employee_residence</th>\n",
       "      <th>remote_ratio</th>\n",
       "      <th>company_location</th>\n",
       "      <th>company_size</th>\n",
       "    </tr>\n",
       "  </thead>\n",
       "  <tbody>\n",
       "    <tr>\n",
       "      <th>0</th>\n",
       "      <td>0</td>\n",
       "      <td>2020</td>\n",
       "      <td>MI</td>\n",
       "      <td>FT</td>\n",
       "      <td>Data Scientist</td>\n",
       "      <td>70000</td>\n",
       "      <td>EUR</td>\n",
       "      <td>79833</td>\n",
       "      <td>DE</td>\n",
       "      <td>0</td>\n",
       "      <td>DE</td>\n",
       "      <td>L</td>\n",
       "    </tr>\n",
       "    <tr>\n",
       "      <th>1</th>\n",
       "      <td>1</td>\n",
       "      <td>2020</td>\n",
       "      <td>SE</td>\n",
       "      <td>FT</td>\n",
       "      <td>Machine Learning Scientist</td>\n",
       "      <td>260000</td>\n",
       "      <td>USD</td>\n",
       "      <td>260000</td>\n",
       "      <td>JP</td>\n",
       "      <td>0</td>\n",
       "      <td>JP</td>\n",
       "      <td>S</td>\n",
       "    </tr>\n",
       "    <tr>\n",
       "      <th>2</th>\n",
       "      <td>2</td>\n",
       "      <td>2020</td>\n",
       "      <td>SE</td>\n",
       "      <td>FT</td>\n",
       "      <td>Big Data Engineer</td>\n",
       "      <td>85000</td>\n",
       "      <td>GBP</td>\n",
       "      <td>109024</td>\n",
       "      <td>GB</td>\n",
       "      <td>50</td>\n",
       "      <td>GB</td>\n",
       "      <td>M</td>\n",
       "    </tr>\n",
       "  </tbody>\n",
       "</table>\n",
       "</div>"
      ],
      "text/plain": [
       "   Unnamed: 0  work_year experience_level employment_type  \\\n",
       "0           0       2020               MI              FT   \n",
       "1           1       2020               SE              FT   \n",
       "2           2       2020               SE              FT   \n",
       "\n",
       "                    job_title  salary salary_currency  salary_in_usd  \\\n",
       "0              Data Scientist   70000             EUR          79833   \n",
       "1  Machine Learning Scientist  260000             USD         260000   \n",
       "2           Big Data Engineer   85000             GBP         109024   \n",
       "\n",
       "  employee_residence  remote_ratio company_location company_size  \n",
       "0                 DE             0               DE            L  \n",
       "1                 JP             0               JP            S  \n",
       "2                 GB            50               GB            M  "
      ]
     },
     "metadata": {},
     "output_type": "display_data"
    },
    {
     "data": {
      "text/html": [
       "<div>\n",
       "<style scoped>\n",
       "    .dataframe tbody tr th:only-of-type {\n",
       "        vertical-align: middle;\n",
       "    }\n",
       "\n",
       "    .dataframe tbody tr th {\n",
       "        vertical-align: top;\n",
       "    }\n",
       "\n",
       "    .dataframe thead th {\n",
       "        text-align: right;\n",
       "    }\n",
       "</style>\n",
       "<table border=\"1\" class=\"dataframe\">\n",
       "  <thead>\n",
       "    <tr style=\"text-align: right;\">\n",
       "      <th></th>\n",
       "      <th>Unnamed: 0</th>\n",
       "      <th>work_year</th>\n",
       "      <th>experience_level</th>\n",
       "      <th>employment_type</th>\n",
       "      <th>job_title</th>\n",
       "      <th>salary</th>\n",
       "      <th>salary_currency</th>\n",
       "      <th>salary_in_usd</th>\n",
       "      <th>employee_residence</th>\n",
       "      <th>remote_ratio</th>\n",
       "      <th>company_location</th>\n",
       "      <th>company_size</th>\n",
       "    </tr>\n",
       "  </thead>\n",
       "  <tbody>\n",
       "    <tr>\n",
       "      <th>604</th>\n",
       "      <td>604</td>\n",
       "      <td>2022</td>\n",
       "      <td>SE</td>\n",
       "      <td>FT</td>\n",
       "      <td>Data Analyst</td>\n",
       "      <td>129000</td>\n",
       "      <td>USD</td>\n",
       "      <td>129000</td>\n",
       "      <td>US</td>\n",
       "      <td>0</td>\n",
       "      <td>US</td>\n",
       "      <td>M</td>\n",
       "    </tr>\n",
       "    <tr>\n",
       "      <th>605</th>\n",
       "      <td>605</td>\n",
       "      <td>2022</td>\n",
       "      <td>SE</td>\n",
       "      <td>FT</td>\n",
       "      <td>Data Analyst</td>\n",
       "      <td>150000</td>\n",
       "      <td>USD</td>\n",
       "      <td>150000</td>\n",
       "      <td>US</td>\n",
       "      <td>100</td>\n",
       "      <td>US</td>\n",
       "      <td>M</td>\n",
       "    </tr>\n",
       "    <tr>\n",
       "      <th>606</th>\n",
       "      <td>606</td>\n",
       "      <td>2022</td>\n",
       "      <td>MI</td>\n",
       "      <td>FT</td>\n",
       "      <td>AI Scientist</td>\n",
       "      <td>200000</td>\n",
       "      <td>USD</td>\n",
       "      <td>200000</td>\n",
       "      <td>IN</td>\n",
       "      <td>100</td>\n",
       "      <td>US</td>\n",
       "      <td>L</td>\n",
       "    </tr>\n",
       "  </tbody>\n",
       "</table>\n",
       "</div>"
      ],
      "text/plain": [
       "     Unnamed: 0  work_year experience_level employment_type     job_title  \\\n",
       "604         604       2022               SE              FT  Data Analyst   \n",
       "605         605       2022               SE              FT  Data Analyst   \n",
       "606         606       2022               MI              FT  AI Scientist   \n",
       "\n",
       "     salary salary_currency  salary_in_usd employee_residence  remote_ratio  \\\n",
       "604  129000             USD         129000                 US             0   \n",
       "605  150000             USD         150000                 US           100   \n",
       "606  200000             USD         200000                 IN           100   \n",
       "\n",
       "    company_location company_size  \n",
       "604               US            M  \n",
       "605               US            M  \n",
       "606               US            L  "
      ]
     },
     "metadata": {},
     "output_type": "display_data"
    }
   ],
   "source": [
    "# cоздаем dataframe, визуализируем данные\n",
    "df = pd.read_csv('data/ds_salaries.csv')\n",
    "display(df.head(3), df.tail(3))"
   ]
  },
  {
   "cell_type": "code",
   "execution_count": 80,
   "metadata": {},
   "outputs": [
    {
     "name": "stdout",
     "output_type": "stream",
     "text": [
      "<class 'pandas.core.frame.DataFrame'>\n",
      "RangeIndex: 607 entries, 0 to 606\n",
      "Data columns (total 12 columns):\n",
      " #   Column              Non-Null Count  Dtype \n",
      "---  ------              --------------  ----- \n",
      " 0   Unnamed: 0          607 non-null    int64 \n",
      " 1   work_year           607 non-null    int64 \n",
      " 2   experience_level    607 non-null    object\n",
      " 3   employment_type     607 non-null    object\n",
      " 4   job_title           607 non-null    object\n",
      " 5   salary              607 non-null    int64 \n",
      " 6   salary_currency     607 non-null    object\n",
      " 7   salary_in_usd       607 non-null    int64 \n",
      " 8   employee_residence  607 non-null    object\n",
      " 9   remote_ratio        607 non-null    int64 \n",
      " 10  company_location    607 non-null    object\n",
      " 11  company_size        607 non-null    object\n",
      "dtypes: int64(5), object(7)\n",
      "memory usage: 57.0+ KB\n",
      "None\n"
     ]
    }
   ],
   "source": [
    "# выводим информацию о признаках (наличие пустых значений, типы данных)\n",
    "print(df.info())"
   ]
  },
  {
   "cell_type": "code",
   "execution_count": 81,
   "metadata": {},
   "outputs": [
    {
     "name": "stdout",
     "output_type": "stream",
     "text": [
      "\n",
      " Unnamed: 0            607\n",
      "work_year               3\n",
      "experience_level        4\n",
      "employment_type         4\n",
      "job_title              50\n",
      "salary                272\n",
      "salary_currency        17\n",
      "salary_in_usd         369\n",
      "employee_residence     57\n",
      "remote_ratio            3\n",
      "company_location       50\n",
      "company_size            3\n",
      "dtype: int64\n"
     ]
    }
   ],
   "source": [
    "# выводим количество уникальных значений по признакам\n",
    "print('\\n', df.nunique())"
   ]
  },
  {
   "cell_type": "markdown",
   "metadata": {},
   "source": [
    "* _Комментарий_  \n",
    "Данные корректно загружены.  \n",
    "В таблице 607 записей, ни в одной нет пустых значений.  \n",
    "Признак 'Unnamed: 0' можно удалять как содержащий неинформативные индексы.  \n",
    "Признаки 'salary' и 'salary_currency' можно удалять, поскольку они преобразованы в 'salary_in_usd'.  \n",
    "Числовым является только один признак 'salary_in_usd' - его тип указан корректно.  \n",
    "Остальные признаки по сути являются категориальными (можно преобразовать)"
   ]
  },
  {
   "cell_type": "code",
   "execution_count": 82,
   "metadata": {},
   "outputs": [
    {
     "name": "stdout",
     "output_type": "stream",
     "text": [
      "Количество дубликатов: 42\n",
      "Размер таблицы после удаления дубликатов: (565, 9)\n",
      "\n",
      "<class 'pandas.core.frame.DataFrame'>\n",
      "Index: 565 entries, 0 to 606\n",
      "Data columns (total 9 columns):\n",
      " #   Column              Non-Null Count  Dtype   \n",
      "---  ------              --------------  -----   \n",
      " 0   work_year           565 non-null    category\n",
      " 1   experience_level    565 non-null    category\n",
      " 2   employment_type     565 non-null    category\n",
      " 3   job_title           565 non-null    category\n",
      " 4   salary_in_usd       565 non-null    int64   \n",
      " 5   employee_residence  565 non-null    category\n",
      " 6   remote_ratio        565 non-null    category\n",
      " 7   company_location    565 non-null    category\n",
      " 8   company_size        565 non-null    category\n",
      "dtypes: category(8), int64(1)\n",
      "memory usage: 21.4 KB\n"
     ]
    }
   ],
   "source": [
    "# удаляем неинформативные признаки\n",
    "df_droped = df.drop(['Unnamed: 0', 'salary', 'salary_currency'], axis=1)\n",
    "\n",
    "# удаеляем полные дубликаты записей\n",
    "print('Количество дубликатов: {}'.format(df_droped[df_droped.duplicated()].shape[0]))\n",
    "df_droped = df_droped.drop_duplicates()\n",
    "print('Размер таблицы после удаления дубликатов: {}\\n'.format(df_droped.shape))\n",
    "\n",
    "# устанавливаем для категориальных признаков корректный тип\n",
    "df_dTyped = df_droped.astype('category')\n",
    "df_dTyped['salary_in_usd'] = df_droped['salary_in_usd'].astype('int64')\n",
    "df_dTyped.info()"
   ]
  },
  {
   "cell_type": "markdown",
   "metadata": {},
   "source": [
    "* _Комментарий_  \n",
    "Удалено три неинформативных признака, которые точно не будут учавствовать в исследовании.  \n",
    "Удалено 42 дублирующие записи.  \n",
    "В итоге остался только один числовой признак 'salary_in_usd'. Остальные - категориальные.  \n",
    "Часть категориальных признаков ('job_title', 'employee_residence', 'company_location') содержат более 50 уникальных значений и, возможно, потребуют некоторых преобразований далее"
   ]
  },
  {
   "cell_type": "code",
   "execution_count": 83,
   "metadata": {},
   "outputs": [
    {
     "data": {
      "text/html": [
       "<div>\n",
       "<style scoped>\n",
       "    .dataframe tbody tr th:only-of-type {\n",
       "        vertical-align: middle;\n",
       "    }\n",
       "\n",
       "    .dataframe tbody tr th {\n",
       "        vertical-align: top;\n",
       "    }\n",
       "\n",
       "    .dataframe thead th {\n",
       "        text-align: right;\n",
       "    }\n",
       "</style>\n",
       "<table border=\"1\" class=\"dataframe\">\n",
       "  <thead>\n",
       "    <tr style=\"text-align: right;\">\n",
       "      <th></th>\n",
       "      <th>salary_in_usd</th>\n",
       "    </tr>\n",
       "  </thead>\n",
       "  <tbody>\n",
       "    <tr>\n",
       "      <th>count</th>\n",
       "      <td>565.000000</td>\n",
       "    </tr>\n",
       "    <tr>\n",
       "      <th>mean</th>\n",
       "      <td>110610.343363</td>\n",
       "    </tr>\n",
       "    <tr>\n",
       "      <th>std</th>\n",
       "      <td>72280.702792</td>\n",
       "    </tr>\n",
       "    <tr>\n",
       "      <th>min</th>\n",
       "      <td>2859.000000</td>\n",
       "    </tr>\n",
       "    <tr>\n",
       "      <th>25%</th>\n",
       "      <td>60757.000000</td>\n",
       "    </tr>\n",
       "    <tr>\n",
       "      <th>50%</th>\n",
       "      <td>100000.000000</td>\n",
       "    </tr>\n",
       "    <tr>\n",
       "      <th>75%</th>\n",
       "      <td>150000.000000</td>\n",
       "    </tr>\n",
       "    <tr>\n",
       "      <th>max</th>\n",
       "      <td>600000.000000</td>\n",
       "    </tr>\n",
       "  </tbody>\n",
       "</table>\n",
       "</div>"
      ],
      "text/plain": [
       "       salary_in_usd\n",
       "count     565.000000\n",
       "mean   110610.343363\n",
       "std     72280.702792\n",
       "min      2859.000000\n",
       "25%     60757.000000\n",
       "50%    100000.000000\n",
       "75%    150000.000000\n",
       "max    600000.000000"
      ]
     },
     "metadata": {},
     "output_type": "display_data"
    }
   ],
   "source": [
    "# выводим основные статистические характеристики для числового признака\n",
    "\n",
    "display(df_dTyped.describe())"
   ]
  },
  {
   "cell_type": "code",
   "execution_count": 84,
   "metadata": {},
   "outputs": [
    {
     "data": {
      "text/html": [
       "<div>\n",
       "<style scoped>\n",
       "    .dataframe tbody tr th:only-of-type {\n",
       "        vertical-align: middle;\n",
       "    }\n",
       "\n",
       "    .dataframe tbody tr th {\n",
       "        vertical-align: top;\n",
       "    }\n",
       "\n",
       "    .dataframe thead th {\n",
       "        text-align: right;\n",
       "    }\n",
       "</style>\n",
       "<table border=\"1\" class=\"dataframe\">\n",
       "  <thead>\n",
       "    <tr style=\"text-align: right;\">\n",
       "      <th></th>\n",
       "      <th>work_year</th>\n",
       "      <th>experience_level</th>\n",
       "      <th>employment_type</th>\n",
       "      <th>job_title</th>\n",
       "      <th>employee_residence</th>\n",
       "      <th>remote_ratio</th>\n",
       "      <th>company_location</th>\n",
       "      <th>company_size</th>\n",
       "    </tr>\n",
       "  </thead>\n",
       "  <tbody>\n",
       "    <tr>\n",
       "      <th>count</th>\n",
       "      <td>565</td>\n",
       "      <td>565</td>\n",
       "      <td>565</td>\n",
       "      <td>565</td>\n",
       "      <td>565</td>\n",
       "      <td>565</td>\n",
       "      <td>565</td>\n",
       "      <td>565</td>\n",
       "    </tr>\n",
       "    <tr>\n",
       "      <th>unique</th>\n",
       "      <td>3</td>\n",
       "      <td>4</td>\n",
       "      <td>4</td>\n",
       "      <td>50</td>\n",
       "      <td>57</td>\n",
       "      <td>3</td>\n",
       "      <td>50</td>\n",
       "      <td>3</td>\n",
       "    </tr>\n",
       "    <tr>\n",
       "      <th>top</th>\n",
       "      <td>2022</td>\n",
       "      <td>SE</td>\n",
       "      <td>FT</td>\n",
       "      <td>Data Scientist</td>\n",
       "      <td>US</td>\n",
       "      <td>100</td>\n",
       "      <td>US</td>\n",
       "      <td>M</td>\n",
       "    </tr>\n",
       "    <tr>\n",
       "      <th>freq</th>\n",
       "      <td>278</td>\n",
       "      <td>243</td>\n",
       "      <td>546</td>\n",
       "      <td>130</td>\n",
       "      <td>295</td>\n",
       "      <td>346</td>\n",
       "      <td>318</td>\n",
       "      <td>290</td>\n",
       "    </tr>\n",
       "  </tbody>\n",
       "</table>\n",
       "</div>"
      ],
      "text/plain": [
       "        work_year experience_level employment_type       job_title  \\\n",
       "count         565              565             565             565   \n",
       "unique          3                4               4              50   \n",
       "top          2022               SE              FT  Data Scientist   \n",
       "freq          278              243             546             130   \n",
       "\n",
       "       employee_residence  remote_ratio company_location company_size  \n",
       "count                 565           565              565          565  \n",
       "unique                 57             3               50            3  \n",
       "top                    US           100               US            M  \n",
       "freq                  295           346              318          290  "
      ]
     },
     "execution_count": 84,
     "metadata": {},
     "output_type": "execute_result"
    }
   ],
   "source": [
    "# выводим основные статистические характеристики для категориальных признаков\n",
    "\n",
    "df_dTyped.describe(include=['category'])"
   ]
  },
  {
   "cell_type": "markdown",
   "metadata": {},
   "source": [
    "**Итоги по п. 1**  \n",
    "Загружены и подготовлены для дальнейшей работы данные HR агенства.  \n",
    "После очистки и преобразования типов остался один числовой (зарпалата в долларах) и 8 категориальных признаков.  \n",
    "Согласно предварительной статистике есть отличия между средней и медианными зарплатами, что говорит о не нормальном распределении или выбросах. Наибольшее количество записей относится к роли Data Scientist, к 2022 году, к компаниям из США, среднего размера, в основном полного дня и удаленной работы. \n",
    "\n",
    "#### 2. Разведывательный анализ данных  \n",
    "##### 2.1. Визуальный анализ данных"
   ]
  },
  {
   "cell_type": "code",
   "execution_count": 85,
   "metadata": {},
   "outputs": [
    {
     "name": "stdout",
     "output_type": "stream",
     "text": [
      "job_title\n",
      "Data Scientist                              130\n",
      "Data Engineer                               121\n",
      "Data Analyst                                 82\n",
      "Machine Learning Engineer                    39\n",
      "Research Scientist                           16\n",
      "Data Science Manager                         12\n",
      "Data Architect                               11\n",
      "Big Data Engineer                             8\n",
      "Machine Learning Scientist                    8\n",
      "Director of Data Science                      7\n",
      "Data Analytics Manager                        7\n",
      "AI Scientist                                  7\n",
      "Principal Data Scientist                      7\n",
      "Data Science Consultant                       7\n",
      "Lead Data Engineer                            6\n",
      "ML Engineer                                   6\n",
      "Computer Vision Engineer                      6\n",
      "BI Data Analyst                               6\n",
      "Head of Data                                  5\n",
      "Data Engineering Manager                      5\n",
      "Business Data Analyst                         5\n",
      "Applied Data Scientist                        5\n",
      "Data Analytics Engineer                       4\n",
      "Applied Machine Learning Scientist            4\n",
      "Analytics Engineer                            4\n",
      "Head of Data Science                          4\n",
      "Machine Learning Developer                    3\n",
      "Lead Data Scientist                           3\n",
      "Lead Data Analyst                             3\n",
      "Data Science Engineer                         3\n",
      "Principal Data Engineer                       3\n",
      "Computer Vision Software Engineer             3\n",
      "Machine Learning Infrastructure Engineer      3\n",
      "Financial Data Analyst                        2\n",
      "Principal Data Analyst                        2\n",
      "Director of Data Engineering                  2\n",
      "Product Data Analyst                          2\n",
      "Cloud Data Engineer                           2\n",
      "NLP Engineer                                  1\n",
      "Marketing Data Analyst                        1\n",
      "3D Computer Vision Researcher                 1\n",
      "Machine Learning Manager                      1\n",
      "Lead Machine Learning Engineer                1\n",
      "Head of Machine Learning                      1\n",
      "Finance Data Analyst                          1\n",
      "ETL Developer                                 1\n",
      "Data Specialist                               1\n",
      "Data Analytics Lead                           1\n",
      "Big Data Architect                            1\n",
      "Staff Data Scientist                          1\n",
      "Name: count, dtype: int64\n"
     ]
    }
   ],
   "source": [
    "# Проверяем формы записи\n",
    "\n",
    "print(df_dTyped['job_title'].value_counts())"
   ]
  },
  {
   "cell_type": "markdown",
   "metadata": {},
   "source": [
    "* _Комментарий_  \n",
    "Записи названий ролей в форме 'Data Scientist' и 'Data Engineer' преобладают. Остальные роли не будут учитываться как значимые. Фильтрация данных будет осуществлена только для форм названий 'Data Scientist' и 'Data Engineer'"
   ]
  },
  {
   "cell_type": "code",
   "execution_count": 86,
   "metadata": {},
   "outputs": [
    {
     "data": {
      "image/png": "[encoded data removed]",
      "text/plain": [
       "<Figure size 1200x800 with 6 Axes>"
      ]
     },
     "metadata": {},
     "output_type": "display_data"
    }
   ],
   "source": [
    "# Визуализируем влияние всех возможных факторов на зарплаты Data Scientist\n",
    "\n",
    "# Для факторов с малым количеством категорий - коробчатые диаграммы\n",
    "\n",
    "# Функция для подготовки данных для отражения на графиках\n",
    "def salary_in_usd (col, df):\n",
    "    labels = df[col].unique()\n",
    "    data = []\n",
    "    for elem in labels:\n",
    "        data.append(list(df[df[col]==elem]['salary_in_usd']))\n",
    "    return labels, data\n",
    "\n",
    "df_DS = df_dTyped[df_dTyped['job_title']=='Data Scientist']\n",
    "\n",
    "fig, axes = plt.subplots(nrows=2, ncols=3, figsize=(12, 8))\n",
    "\n",
    "# Распределение средней з/п Data Scientist (DS)\n",
    "axes[0, 0].hist(x=df_DS['salary_in_usd'], bins=10)\n",
    "axes[0, 0].set_title(\"Средняя з/п Data Scientist, USD\")\n",
    "\n",
    "# Распределение з/п DS по годам\n",
    "labels, data = salary_in_usd ('work_year', df_DS)\n",
    "axes[0, 1].boxplot(x=data, vert=False, labels=labels)\n",
    "axes[0, 1].set_title(\"Распределение по годам\")\n",
    "\n",
    "# Распределение з/п DS по опыту работы\n",
    "labels, data = salary_in_usd ('experience_level', df_DS)\n",
    "axes[0, 2].boxplot(x=data, vert=False, labels=labels)\n",
    "axes[0, 2].set_title(\"по опыту работы\")\n",
    "\n",
    "# Распределение з/п DS по типу трудоустройствва\n",
    "labels, data = salary_in_usd ('employment_type', df_DS)\n",
    "axes[1, 0].boxplot(x=data, vert=False, labels=labels)\n",
    "axes[1, 0].set_title(\"по типу трудоустройства\")\n",
    "\n",
    "# Распределение з/п DS по возможности удаленки\n",
    "labels, data = salary_in_usd ('remote_ratio', df_DS)\n",
    "axes[1, 1].boxplot(x=data, vert=False, labels=labels)\n",
    "axes[1, 1].set_title(\"по возможности удаленки\")\n",
    "\n",
    "# Распределение з/п DS по размеру компании\n",
    "labels, data = salary_in_usd ('company_size', df_DS)\n",
    "axes[1, 2].boxplot(x=data, vert=False, labels=labels)\n",
    "axes[1, 2].set_title(\"по размеру компании\");"
   ]
  },
  {
   "cell_type": "code",
   "execution_count": 87,
   "metadata": {},
   "outputs": [
    {
     "data": {
      "image/png": "[encoded data removed]",
      "text/plain": [
       "<Figure size 1200x400 with 2 Axes>"
      ]
     },
     "metadata": {},
     "output_type": "display_data"
    }
   ],
   "source": [
    "# Для факторов с большим количеством категорий строим столбчатые диаграммы\n",
    "\n",
    "fig, axes = plt.subplots(nrows=1, ncols=2, figsize=(12, 4))\n",
    "\n",
    "# Распределение по стране проживания сотрудника\n",
    "data_empl = df_DS.groupby(['employee_residence'],\n",
    "        observed=True)['salary_in_usd'].mean().nlargest(15)\n",
    "axes[0].bar(x = data_empl.index, height = data_empl)\n",
    "axes[0].set_title(\"З/п Data Scientist по стране проживания\")\n",
    "\n",
    "# Распределение по месту нахождения компании\n",
    "data_comp = df_DS.groupby(['company_location'],\n",
    "        observed=True)['salary_in_usd'].mean().nlargest(15)\n",
    "axes[1].bar(x = data_comp.index, height = data_comp)\n",
    "axes[1].set_title(\"по стране нахождения компании\");"
   ]
  },
  {
   "cell_type": "markdown",
   "metadata": {},
   "source": [
    "* _Комментарий_  \n",
    "Все семь факторов (_год работы, опыт работы, тип трудоустройства, возможность удаленки, размер компании, страна проживания, страна компании_) визуально влияют на величину средней зарплаты Data Scientist"
   ]
  },
  {
   "cell_type": "code",
   "execution_count": 88,
   "metadata": {},
   "outputs": [
    {
     "data": {
      "image/png": "[encoded data removed]",
      "text/plain": [
       "<Figure size 400x200 with 1 Axes>"
      ]
     },
     "metadata": {},
     "output_type": "display_data"
    }
   ],
   "source": [
    "#  Сравниваем зарплаты Data Scientist и Data Engineer в 2022 году\n",
    "\n",
    "df_DS_DE_2022 = df_dTyped[(\n",
    "    (df_dTyped['job_title']=='Data Scientist') | (\n",
    "    df_dTyped['job_title']=='Data Engineer')\n",
    "            ) & (df_dTyped['work_year']==2022)]\n",
    "\n",
    "labels, data = salary_in_usd ('job_title', df_DS_DE_2022)\n",
    "\n",
    "fig = plt.figure(figsize=(4, 2))\n",
    "axes = fig.add_axes([0, 0, 1, 1])\n",
    "\n",
    "axes.boxplot(x=data, vert=False, labels=labels)\n",
    "axes.set_title(\"Распределение средних зарплат по ролям в 2022 году\");"
   ]
  },
  {
   "cell_type": "code",
   "execution_count": 89,
   "metadata": {},
   "outputs": [
    {
     "data": {
      "text/html": [
       "<div>\n",
       "<style scoped>\n",
       "    .dataframe tbody tr th:only-of-type {\n",
       "        vertical-align: middle;\n",
       "    }\n",
       "\n",
       "    .dataframe tbody tr th {\n",
       "        vertical-align: top;\n",
       "    }\n",
       "\n",
       "    .dataframe thead th {\n",
       "        text-align: right;\n",
       "    }\n",
       "</style>\n",
       "<table border=\"1\" class=\"dataframe\">\n",
       "  <thead>\n",
       "    <tr style=\"text-align: right;\">\n",
       "      <th></th>\n",
       "      <th></th>\n",
       "      <th>count</th>\n",
       "      <th>count_sum</th>\n",
       "      <th>percent</th>\n",
       "    </tr>\n",
       "    <tr>\n",
       "      <th>company_size</th>\n",
       "      <th>job_category</th>\n",
       "      <th></th>\n",
       "      <th></th>\n",
       "      <th></th>\n",
       "    </tr>\n",
       "  </thead>\n",
       "  <tbody>\n",
       "    <tr>\n",
       "      <th rowspan=\"3\" valign=\"top\">L</th>\n",
       "      <th>Data Engineer</th>\n",
       "      <td>34</td>\n",
       "      <td>193</td>\n",
       "      <td>18.0</td>\n",
       "    </tr>\n",
       "    <tr>\n",
       "      <th>Data Scientist</th>\n",
       "      <td>43</td>\n",
       "      <td>193</td>\n",
       "      <td>22.0</td>\n",
       "    </tr>\n",
       "    <tr>\n",
       "      <th>Other</th>\n",
       "      <td>116</td>\n",
       "      <td>193</td>\n",
       "      <td>60.0</td>\n",
       "    </tr>\n",
       "    <tr>\n",
       "      <th rowspan=\"3\" valign=\"top\">M</th>\n",
       "      <th>Data Engineer</th>\n",
       "      <td>81</td>\n",
       "      <td>290</td>\n",
       "      <td>28.0</td>\n",
       "    </tr>\n",
       "    <tr>\n",
       "      <th>Data Scientist</th>\n",
       "      <td>66</td>\n",
       "      <td>290</td>\n",
       "      <td>23.0</td>\n",
       "    </tr>\n",
       "    <tr>\n",
       "      <th>Other</th>\n",
       "      <td>143</td>\n",
       "      <td>290</td>\n",
       "      <td>49.0</td>\n",
       "    </tr>\n",
       "    <tr>\n",
       "      <th rowspan=\"3\" valign=\"top\">S</th>\n",
       "      <th>Data Engineer</th>\n",
       "      <td>6</td>\n",
       "      <td>82</td>\n",
       "      <td>7.0</td>\n",
       "    </tr>\n",
       "    <tr>\n",
       "      <th>Data Scientist</th>\n",
       "      <td>21</td>\n",
       "      <td>82</td>\n",
       "      <td>26.0</td>\n",
       "    </tr>\n",
       "    <tr>\n",
       "      <th>Other</th>\n",
       "      <td>55</td>\n",
       "      <td>82</td>\n",
       "      <td>67.0</td>\n",
       "    </tr>\n",
       "  </tbody>\n",
       "</table>\n",
       "</div>"
      ],
      "text/plain": [
       "                             count  count_sum  percent\n",
       "company_size job_category                             \n",
       "L            Data Engineer      34        193     18.0\n",
       "             Data Scientist     43        193     22.0\n",
       "             Other             116        193     60.0\n",
       "M            Data Engineer      81        290     28.0\n",
       "             Data Scientist     66        290     23.0\n",
       "             Other             143        290     49.0\n",
       "S            Data Engineer       6         82      7.0\n",
       "             Data Scientist     21         82     26.0\n",
       "             Other              55         82     67.0"
      ]
     },
     "metadata": {},
     "output_type": "display_data"
    },
    {
     "data": {
      "image/png": "[encoded data removed]",
      "text/plain": [
       "<Figure size 1000x400 with 1 Axes>"
      ]
     },
     "metadata": {},
     "output_type": "display_data"
    }
   ],
   "source": [
    "# Определяем процент Data Scientist и Data Engineer среди компаний разного размера\n",
    "\n",
    "DS_DE_df = df_dTyped[['company_size', 'job_title']].copy()\n",
    "DS_DE_df['job_category'] = DS_DE_df['job_title'].apply(\n",
    "    lambda x: x if x == 'Data Scientist' or x == 'Data Engineer' else 'Other'\n",
    "    )\n",
    "DS_DE_df['count'] = 1\n",
    "DS_DE_count = DS_DE_df[['company_size', 'job_category', 'count']].groupby(['company_size', 'job_category'], observed=False).sum()\n",
    "DS_DE_sum = DS_DE_df[['company_size', 'count']].groupby(['company_size'], observed=False).sum()\n",
    "DS_DE_percent = DS_DE_count.join(DS_DE_sum, rsuffix='_sum', on='company_size')\n",
    "DS_DE_percent['percent'] = round(DS_DE_percent['count'] / DS_DE_percent['count_sum'] * 100, 0)\n",
    "\n",
    "display(DS_DE_percent)\n",
    "\n",
    "\n",
    "# визуализируем на столбчатом графике\n",
    "# \n",
    "fig = plt.figure(figsize=(10, 4))\n",
    "\n",
    "barplot = sns.barplot(\n",
    "    data=DS_DE_percent,\n",
    "    x='job_category',\n",
    "    y='percent',\n",
    "    hue='company_size'\n",
    ")\n",
    "barplot.set_title('Наличие должностей Data Scientist и Data Engineer в компаниях различного размера');\n"
   ]
  },
  {
   "cell_type": "markdown",
   "metadata": {},
   "source": [
    "**Итоги по п. 2.1**  \n",
    "Согласно визуальной оценки данных все восемь изученных факторов (год работы, опыт работы, тип трудоустройства, возможность удаленки, размер компании, страна проживания, страна компании) влияют на среднюю зарплату Data Scientist.\n",
    "По построенным графикам можно дать такие предварительные ответы на на ключевые вопросы HR-агентства:\n",
    "* Каждый год наблюдается рост зарплат у специалистов Data Scientist. Если сравнивать с 2020 и 2021 годами, то в 2022 этот рост наиболее выражен.\n",
    "* В 2022 году у Data Scientist наблюдались более высокие зарплаты (не несколько десятков тысяч выше), чем у Data Engineer.\n",
    "* Наиболее высокие зарплаты специалистов Data Scientist в компаниях среднего размера. При чем ее величина лишь немного больше в более крупных компаниях и на много превышает зарплаты мелких компаний. Это может быть связано с тем, что не все мелкие компании способны дать достойную зараплату для специалистов высокого уровня, а в крупных компаниях больше конкуренция.\n",
    "* Наличие должностей Data Scientist и Data Engineer в основном свойственно средним и более крупным компаниями. Видимо более мелкие компании в силу небольшого штата обходятся либо универсальными специалистами, либо одной из представленных ролей.\n",
    "\n",
    "\n",
    "##### 2.2. Статистический анализ данных"
   ]
  },
  {
   "cell_type": "code",
   "execution_count": 90,
   "metadata": {},
   "outputs": [],
   "source": [
    "# задаём уровень значимости\n",
    "alpha = 0.05 \n",
    "\n",
    "# функция для принятия решения о нормальности\n",
    "def decision_normality(p):\n",
    "    print('p-value = {:.3f}'.format(p))\n",
    "    if p <= alpha:\n",
    "        print('p-значение меньше, чем заданный уровень значимости {:.2f}. Распределение отлично от нормального'.format(alpha))\n",
    "    else:\n",
    "        print('p-значение больше, чем заданный уровень значимости {:.2f}. Распределение является нормальным'.format(alpha))\n",
    "\n",
    "# функция для решения о равенстве дисперсий\n",
    "def decision_dispersies(p):\n",
    "    print('p-value = {:.3f}'.format(p))\n",
    "    if p <= alpha:\n",
    "        print('Дисперсии не одинаковы, в stats.ttest_ind нужно использовать параметр equal_var=False.')\n",
    "    else:\n",
    "        print('Дисперсии одинаковы, в stats.ttest_ind нужно использовать параметр equal_var=True.')\n",
    " \n",
    "\n",
    "# функция для принятия решения об отклонении нулевой гипотезы\n",
    "def decision_hypothesis(p):\n",
    "    print('p-value = {:.3f}'.format(p))\n",
    "    if p <= alpha:\n",
    "        print('p-значение меньше, чем заданный уровень значимости {:.2f}. Отвергаем нулевую гипотезу в пользу альтернативной.'.format(alpha))\n",
    "    else:\n",
    "        print('p-значение больше, чем заданный уровень значимости {:.2f}. У нас нет оснований отвергнуть нулевую гипотезу.'.format(alpha))"
   ]
  },
  {
   "cell_type": "markdown",
   "metadata": {},
   "source": [
    "**Наблюдается ли ежегодный рост зарплат у специалистов _Data Scientist_?**\n",
    "\n",
    "*Нулевая гипотеза* ($H_0$): Средняя зарплата специалиста _Data Scientist_ в 2022 г. ($μ_1$) статистически меньше либо равна зарплате _Data Scientist_ в 2021 г. ($μ_2$).\n",
    "\n",
    "$$ H_0 : μ_1 <= μ_2$$\n",
    "\n",
    "*Альтернативная гипотеза* ($H_1$): Средняя зарплата специалиста _Data Scientist_ в 2022 г. ($μ_1$) статистически больше, чем зарплата _Data Scientist_ в 2021 г. ($μ_2$).\n",
    "\n",
    "$$ H_1 : μ_1 > μ_2$$"
   ]
  },
  {
   "cell_type": "code",
   "execution_count": 91,
   "metadata": {},
   "outputs": [
    {
     "name": "stdout",
     "output_type": "stream",
     "text": [
      "Тест на нормальность: \n",
      "Для 2022 г.:\n",
      "p-value = 0.676\n",
      "p-значение больше, чем заданный уровень значимости 0.05. Распределение является нормальным\n",
      "Для 2021 г.:\n",
      "p-value = 0.107\n",
      "p-значение больше, чем заданный уровень значимости 0.05. Распределение является нормальным\n",
      "\n",
      "Тест на равенство дисперсий (для нормально распределенных данных)\n",
      "p-value = 0.264\n",
      "Дисперсии одинаковы, в stats.ttest_ind нужно использовать параметр equal_var=True.\n",
      "\n",
      "Тест на равенство средних\n",
      "p-value = 0.000\n",
      "p-значение меньше, чем заданный уровень значимости 0.05. Отвергаем нулевую гипотезу в пользу альтернативной.\n"
     ]
    }
   ],
   "source": [
    "# значения зарплат Data Scientist по годам\n",
    "df_DS_2022 = df_DS.loc[df_DS['work_year']==2022, 'salary_in_usd']\n",
    "df_DS_2021 = df_DS.loc[df_DS['work_year']==2021, 'salary_in_usd']\n",
    "\n",
    "# проводим тест Шапиро — Уилка на нормальность\n",
    "print('Тест на нормальность:', '\\nДля 2022 г.:')\n",
    "result = stats.shapiro(df_DS_2022)\n",
    "decision_normality(result[1])\n",
    "\n",
    "print('Для 2021 г.:')\n",
    "result = stats.shapiro(df_DS_2021)\n",
    "decision_normality(result[1])\n",
    "\n",
    "\n",
    "# проводим тест Левена на равенство дисперсий\n",
    "print('\\nТест на равенство дисперсий (для нормально распределенных данных)')\n",
    "result = stats.levene(df_DS_2022, df_DS_2021)\n",
    "decision_dispersies(result[1])\n",
    "\n",
    "\n",
    "# проводим тест на сравнение средних в группах\n",
    "print('\\nТест на равенство средних')\n",
    "result = stats.ttest_ind(df_DS_2022, df_DS_2021, alternative='greater', equal_var=True)\n",
    "decision_hypothesis(result[1])"
   ]
  },
  {
   "cell_type": "markdown",
   "metadata": {},
   "source": [
    "* _Комментарий_  \n",
    "Вероятнее всего происходит ежегодный рост зарплат _Data Scientist_"
   ]
  },
  {
   "cell_type": "markdown",
   "metadata": {},
   "source": [
    "**Как соотносятся зарплаты _Data Scientist_ и _Data Engineer_ в 2022 году?**\n",
    "\n",
    "*Нулевая гипотеза* ($H_0$): В 2022 г. средняя зарплата специалиста _Data Scientist_ ($μ_1$) статистически меньше либо равна зарплате _Data Engineer_ ($μ_2$).\n",
    "\n",
    "$$ H_0 : μ_1 <= μ_2$$\n",
    "\n",
    "*Альтернативная гипотеза* ($H_1$): В 2022 г. средняя зарплата специалиста _Data Scientist_ ($μ_1$) статистически больше, чем зарплата _Data Engineer_ ($μ_2$).\n",
    "\n",
    "$$ H_1 : μ_1 > μ_2$$"
   ]
  },
  {
   "cell_type": "code",
   "execution_count": 92,
   "metadata": {},
   "outputs": [
    {
     "name": "stdout",
     "output_type": "stream",
     "text": [
      "Тест на нормальность: \n",
      "Для Data Scientist В 2022 г.:\n",
      "p-value = 0.676\n",
      "p-значение больше, чем заданный уровень значимости 0.05. Распределение является нормальным\n",
      "Для Data Engineer В 2022 г.:\n",
      "p-value = 0.007\n",
      "p-значение меньше, чем заданный уровень значимости 0.05. Распределение отлично от нормального\n",
      "\n",
      "U-критерий Манна — Уитни:\n",
      "p-value = 0.160\n",
      "p-значение больше, чем заданный уровень значимости 0.05. У нас нет оснований отвергнуть нулевую гипотезу.\n"
     ]
    }
   ],
   "source": [
    "# значения зарплат Data Scientist и Data Engineer в 2022 году\n",
    "df_DS_2022 = df_DS_DE_2022.loc[df_DS_DE_2022['job_title']=='Data Scientist', 'salary_in_usd']\n",
    "df_DE_2022 = df_DS_DE_2022.loc[df_DS_DE_2022['job_title']=='Data Engineer', 'salary_in_usd']\n",
    "\n",
    "# проводим тест Шапиро — Уилка на нормальность\n",
    "print('Тест на нормальность:','\\nДля Data Scientist В 2022 г.:')\n",
    "result = stats.shapiro(df_DS_2022)\n",
    "decision_normality(result[1])\n",
    "\n",
    "print('Для Data Engineer В 2022 г.:')\n",
    "result = stats.shapiro(df_DE_2022)\n",
    "decision_normality(result[1])\n",
    "\n",
    "# Используем U-критерий Манна — Уитни для двух независимых выборок не нормальных\n",
    "print('\\nU-критерий Манна — Уитни:')\n",
    "_, p = stats.mannwhitneyu(df_DS_2022, df_DE_2022, alternative='greater')\n",
    "decision_hypothesis(p)"
   ]
  },
  {
   "cell_type": "markdown",
   "metadata": {},
   "source": [
    "* _Комментарий_  \n",
    "Нет оснований утверждать, что в 2022 г. зарплата у специалиста _Data Scientist_ выше, чем у _Data Engineer_"
   ]
  },
  {
   "cell_type": "markdown",
   "metadata": {},
   "source": [
    "**Как соотносятся зарплаты специалистов Data Scientist в компаниях различных размеров?**  \n",
    "* **Сравнение средних и крупных компаний**\n",
    "    \n",
    "*Нулевая гипотеза* ($H_0$): Зарплата специалиста _Data Scientist_ в компаниях среднего размера ($μ_1$) статистически меньше либо равна зарплате _Data Scientist_ в крупных компаниях ($μ_2$).\n",
    "\n",
    "$$ H_0 : μ_1 <= μ_2$$\n",
    "\n",
    "*Альтернативная гипотеза* ($H_1$): Зарплата специалиста _Data Scientist_ в компаниях среднего размера ($μ_1$) статистически больше, чем зарплата _Data Scientist_ в крупных компаниях ($μ_2$).\n",
    "\n",
    "$$ H_1 : μ_1 > μ_2$$"
   ]
  },
  {
   "cell_type": "code",
   "execution_count": 93,
   "metadata": {},
   "outputs": [
    {
     "name": "stdout",
     "output_type": "stream",
     "text": [
      "Тест на нормальность: \n",
      "Для крупных компаний:\n",
      "p-value = 0.030\n",
      "p-значение меньше, чем заданный уровень значимости 0.05. Распределение отлично от нормального\n",
      "Для средних компаний:\n",
      "p-value = 0.897\n",
      "p-значение больше, чем заданный уровень значимости 0.05. Распределение является нормальным\n",
      "Для мелких компаний:\n",
      "p-value = 0.189\n",
      "p-значение больше, чем заданный уровень значимости 0.05. Распределение является нормальным\n",
      "\n",
      "U-критерий Манна — Уитни для средних и крупных компаний:\n",
      "p-value = 0.013\n",
      "p-значение меньше, чем заданный уровень значимости 0.05. Отвергаем нулевую гипотезу в пользу альтернативной.\n"
     ]
    }
   ],
   "source": [
    "# значения зарплат Data Scientist по компаниям разных размеров\n",
    "df_DS_L = df_DS.loc[df_DS['company_size']=='L', 'salary_in_usd']\n",
    "df_DS_M = df_DS.loc[df_DS['company_size']=='M', 'salary_in_usd']\n",
    "df_DS_S = df_DS.loc[df_DS['company_size']=='S', 'salary_in_usd']\n",
    "\n",
    "# на графике распределения з/п DS от размера компании (п.2.1)\n",
    "# есть выброс по максимальной з/п для крупной компании\n",
    "# удалим его\n",
    "df_DS_L = df_DS_L.sort_values(ascending=False)\n",
    "df_DS_L = df_DS_L.drop([df_DS_L.index[0]])\n",
    "\n",
    "# проводим тест Шапиро — Уилка на нормальность\n",
    "print('Тест на нормальность:', '\\nДля крупных компаний:')\n",
    "result = stats.shapiro(df_DS_L)\n",
    "decision_normality(result[1])\n",
    "print('Для средних компаний:')\n",
    "result = stats.shapiro(df_DS_M)\n",
    "decision_normality(result[1])\n",
    "print('Для мелких компаний:')\n",
    "result = stats.shapiro(df_DS_S)\n",
    "decision_normality(result[1])\n",
    "\n",
    "# Используем U-критерий Манна — Уитни для двух независимых выборок не нормальных\n",
    "print('\\nU-критерий Манна — Уитни для средних и крупных компаний:')\n",
    "_, p = stats.mannwhitneyu(df_DS_M, df_DS_L, alternative='greater')\n",
    "decision_hypothesis(p)\n"
   ]
  },
  {
   "cell_type": "markdown",
   "metadata": {},
   "source": [
    "* **Сравнение средних и малых компаний**\n",
    "    \n",
    "*Нулевая гипотеза* ($H_0$): Зарплата специалиста _Data Scientist_ в компаниях среднего размера ($μ_1$) статистически меньше либо равна зарплате _Data Scientist_ в малых компаниях ($μ_2$).\n",
    "\n",
    "$$ H_0 : μ_1 <= μ_2$$\n",
    "\n",
    "*Альтернативная гипотеза* ($H_1$): Зарплата специалиста _Data Scientist_ в компаниях среднего размера ($μ_1$) статистически больше, чем зарплата _Data Scientist_ в малых компаниях ($μ_2$).\n",
    "\n",
    "$$ H_1 : μ_1 > μ_2$$"
   ]
  },
  {
   "cell_type": "code",
   "execution_count": 94,
   "metadata": {},
   "outputs": [
    {
     "name": "stdout",
     "output_type": "stream",
     "text": [
      "\n",
      "Тест на равенство дисперсий для средних и малых компаний\n",
      "p-value = 0.018\n",
      "Дисперсии не одинаковы, в stats.ttest_ind нужно использовать параметр equal_var=False.\n",
      "\n",
      "Тест на равенство средних\n",
      "p-value = 0.000\n",
      "p-значение меньше, чем заданный уровень значимости 0.05. Отвергаем нулевую гипотезу в пользу альтернативной.\n"
     ]
    }
   ],
   "source": [
    "\n",
    "# проводим тест Левена на равенство дисперсий\n",
    "print('\\nТест на равенство дисперсий для средних и малых компаний')\n",
    "result = stats.levene(df_DS_M, df_DS_S)\n",
    "decision_dispersies(result[1])\n",
    "\n",
    "\n",
    "# проводим тест на сравнение средних в группах\n",
    "print('\\nТест на равенство средних')\n",
    "result = stats.ttest_ind(df_DS_M, df_DS_S, alternative='greater', equal_var=False)\n",
    "decision_hypothesis(result[1])"
   ]
  },
  {
   "cell_type": "markdown",
   "metadata": {},
   "source": [
    "* _Комментарий_  \n",
    "Статистически подтверждается, что зарплата у специалиста _Data Scientist_ выше в средних компаниях, чем в крупных или малых"
   ]
  },
  {
   "cell_type": "markdown",
   "metadata": {},
   "source": [
    "**Есть ли связь между наличием должностей _Data Scientist_ и _Data Engineer_ и размером компании?**\n",
    "\n",
    "*Нулевая гипотеза*: между наличием должностей _Data Scientist_ и _Data Engineer_ и размером компании нет взаимосвязи (признаки независимы).\n",
    "\n",
    "*Альтернативная гипотеза*: между наличием должностей _Data Scientist_ и _Data Engineer_ и размером компании есть взаимосвязь (признаки зависимы)."
   ]
  },
  {
   "cell_type": "code",
   "execution_count": 95,
   "metadata": {},
   "outputs": [
    {
     "data": {
      "text/html": [
       "<div>\n",
       "<style scoped>\n",
       "    .dataframe tbody tr th:only-of-type {\n",
       "        vertical-align: middle;\n",
       "    }\n",
       "\n",
       "    .dataframe tbody tr th {\n",
       "        vertical-align: top;\n",
       "    }\n",
       "\n",
       "    .dataframe thead th {\n",
       "        text-align: right;\n",
       "    }\n",
       "</style>\n",
       "<table border=\"1\" class=\"dataframe\">\n",
       "  <thead>\n",
       "    <tr style=\"text-align: right;\">\n",
       "      <th>company_size</th>\n",
       "      <th>L</th>\n",
       "      <th>M</th>\n",
       "      <th>S</th>\n",
       "    </tr>\n",
       "    <tr>\n",
       "      <th>job_category</th>\n",
       "      <th></th>\n",
       "      <th></th>\n",
       "      <th></th>\n",
       "    </tr>\n",
       "  </thead>\n",
       "  <tbody>\n",
       "    <tr>\n",
       "      <th>Data Engineer</th>\n",
       "      <td>34</td>\n",
       "      <td>81</td>\n",
       "      <td>6</td>\n",
       "    </tr>\n",
       "    <tr>\n",
       "      <th>Data Scientist</th>\n",
       "      <td>43</td>\n",
       "      <td>66</td>\n",
       "      <td>21</td>\n",
       "    </tr>\n",
       "    <tr>\n",
       "      <th>Other</th>\n",
       "      <td>116</td>\n",
       "      <td>143</td>\n",
       "      <td>55</td>\n",
       "    </tr>\n",
       "  </tbody>\n",
       "</table>\n",
       "</div>"
      ],
      "text/plain": [
       "company_size      L    M   S\n",
       "job_category                \n",
       "Data Engineer    34   81   6\n",
       "Data Scientist   43   66  21\n",
       "Other           116  143  55"
      ]
     },
     "metadata": {},
     "output_type": "display_data"
    },
    {
     "name": "stdout",
     "output_type": "stream",
     "text": [
      "p-value = 0.001\n",
      "p-значение меньше, чем заданный уровень значимости 0.05. Отвергаем нулевую гипотезу в пользу альтернативной.\n"
     ]
    }
   ],
   "source": [
    "# составляем таблицу сопряжённости\n",
    "cross_table = pd.crosstab(DS_DE_df['job_category'], DS_DE_df['company_size'])\n",
    "display(cross_table)\n",
    "\n",
    "# проводим тест хи квадрат\n",
    "_, p, _, _ = stats.chi2_contingency(cross_table)\n",
    "decision_hypothesis(p)\n"
   ]
  },
  {
   "cell_type": "markdown",
   "metadata": {},
   "source": [
    "* _Комментарий_  \n",
    "Между наличием должностей _Data Scientist_ и _Data Engineer_ и размером компании есть взаимосвязь  \n",
    "\n",
    "#### 3. Соответствие выводов бизнес-вопросам  \n",
    "* **Наблюдается ли ежегодный рост зарплат у специалистов Data Scientist?**  \n",
    "Согласно визуальной оценки каждый год наблюдается рост зарплат у специалистов Data Scientist. Если сравнивать с 2020 и 2021 годами, то в 2022 этот рост наиболее выражен. Рост зарплаты специалистов Data Scientist в 2022 году в сравнение с 2021 статистически подтверждается и такое вывод можно считать надежным и обоснованным.  \n",
    "* **Как соотносятся зарплаты Data Scientist и Data Engineer в 2022 году?**  \n",
    "Согласно визуальной оценке в 2022 году у Data Scientist наблюдались более высокие зарплаты (не несколько десятков тысяч выше), чем у Data Engineer. Но данный вывод не подтверждается статистическими тестами, которые говорят, что наблюдаемая разница статистически не значима и нет оснований говорить, что зарпалата у специалиста Data Scientist выше, чем у Data Engineer.   \n",
    "* **Как соотносятся зарплаты специалистов Data Scientist в компаниях различных размеров?**\n",
    "Согласно визуальной оценки наиболее высокие зарплаты специалистов Data Scientist в компаниях среднего размера. При чем ее величина лишь немного больше в более крупных компаниях и на много превышает зарплаты мелких компаний. Надежность и правильность данных выводов подтверждается статистическими тестами, которые подтверждают, что в компаниях среднего размера зарплаты выше, чем в крупных и в мелких.\n",
    "* **Есть ли связь между наличием должностей Data Scientist и Data Engineer и размером компании?**  \n",
    "Согласно визуальной оценки наличие должностей Data Scientist и Data Engineer в основном свойственно средним и более крупным компаниями. О том, что такие наблюдения не случайны и являются надежными, показывают статитсические тесты, которые подтверждают зависимость наличия должностей Data Scientist и Data Engineer и размера компании. "
   ]
  },
  {
   "cell_type": "markdown",
   "metadata": {},
   "source": [
    "#### 4. Дополнительное исследование  \n",
    "Не проводилось"
   ]
  }
 ],
 "metadata": {
  "kernelspec": {
   "display_name": "Python 3",
   "language": "python",
   "name": "python3"
  },
  "language_info": {
   "codemirror_mode": {
    "name": "ipython",
    "version": 3
   },
   "file_extension": ".py",
   "mimetype": "text/x-python",
   "name": "python",
   "nbconvert_exporter": "python",
   "pygments_lexer": "ipython3",
   "version": "3.11.5"
  }
 },
 "nbformat": 4,
 "nbformat_minor": 2
}
